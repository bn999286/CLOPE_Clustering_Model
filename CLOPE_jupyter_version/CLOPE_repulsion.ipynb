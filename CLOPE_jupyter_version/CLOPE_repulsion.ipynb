{
 "cells": [
  {
   "cell_type": "markdown",
   "metadata": {},
   "source": [
    "CLOPE ALGORITHM"
   ]
  },
  {
   "cell_type": "code",
   "execution_count": null,
   "metadata": {},
   "outputs": [],
   "source": [
    "import math"
   ]
  },
  {
   "cell_type": "code",
   "execution_count": null,
   "metadata": {},
   "outputs": [],
   "source": [
    "#remove duplicate elements in list\n",
    "def Remove_Duplicate(duplicate): \n",
    "    list = [] \n",
    "    for item in duplicate: \n",
    "        if item not in list: \n",
    "            list.append(item) \n",
    "    return list"
   ]
  },
  {
   "cell_type": "code",
   "execution_count": null,
   "metadata": {},
   "outputs": [],
   "source": [
    "# update the cluster feature data when adding a transaction\n",
    "def Delta_Add(cluster, transaction, r):\n",
    "    # creat a list to store all items of the cluster\n",
    "    items = []\n",
    "    j = 0\n",
    "    while j < len(cluster):\n",
    "        k = 0\n",
    "        while k < len(cluster[j]):\n",
    "            items.append(cluster[j][k])\n",
    "            k += 1\n",
    "        j += 1\n",
    "\n",
    "    # dist_item list stores distint items after removing duplicates items\n",
    "    dist_items = Remove_Duplicate(items)\n",
    "\n",
    "    # cluster size\n",
    "    C_S = len(items)\n",
    "\n",
    "    # cluster width\n",
    "    C_W = len(dist_items)\n",
    "\n",
    "    # number of transactions in cluster\n",
    "    C_N = len(cluster)\n",
    "\n",
    "    # initialize S_new and W_new\n",
    "    S_new = C_S + len(transaction)\n",
    "    W_new = C_W\n",
    "\n",
    "    # for each item in transaction\n",
    "    i = 0\n",
    "    while i < len(transaction):\n",
    "        # if occurence of i th item of transaction in cluster is 0\n",
    "        if (items.count(transaction[i]) == 0):\n",
    "            # increase the width of the cluster\n",
    "            W_new += 1\n",
    "        i += 1\n",
    "\n",
    "    # print (\"W_new = \",  W_new)\n",
    "\n",
    "    # avoid div =0 when cluster is empty\n",
    "    div = 0\n",
    "    if C_W == 0:\n",
    "        div = 1\n",
    "    else:\n",
    "        div = math.pow(C_W, r)\n",
    "\n",
    "    # return the change of profit\n",
    "    return S_new * (C_N + 1) / math.pow(W_new, r) - C_S * C_N / div"
   ]
  },
  {
   "cell_type": "code",
   "execution_count": null,
   "metadata": {},
   "outputs": [],
   "source": [
    "# find_max_profit_cluster\n",
    "def Find_Max_Profit_Cluster(transaction, repulsion):\n",
    "    max_profit = 0\n",
    "    i_max_profit_cluster = 0\n",
    "\n",
    "    i = 0\n",
    "    # for each cluster in clusters\n",
    "    while i < len(clusters):\n",
    "\n",
    "        # calculate the change of profit (delta profit) when put transaction in existing clusters or a new cluster\n",
    "        profit = Delta_Add(clusters[i], transaction, repulsion)\n",
    "        print(\"if put t in cluster: \", i,  \" -- delta profit =\", profit)\n",
    "\n",
    "        # if delta profit > delta max_profit\n",
    "        if profit > max_profit:\n",
    "            max_profit = profit\n",
    "            i_max_profit_cluster = i\n",
    "\n",
    "        i += 1\n",
    "\n",
    "    #print the index of max delta profit cluster after appending the transaction\n",
    "    print(\"max delta profit at cluster: \" , i_max_profit_cluster)\n",
    "    print(\"put t in cluster: \",i_max_profit_cluster)\n",
    "    print(\"\\n\")\n",
    "\n",
    "    # return the index of max delta profit cluster after appending the transaction\n",
    "    return i_max_profit_cluster"
   ]
  },
  {
   "cell_type": "code",
   "execution_count": null,
   "metadata": {},
   "outputs": [],
   "source": [
    "# Phrase 1 - Initialization\n",
    "def Initialization(dataset, clusters, clusters_index, repulsion):\n",
    "\n",
    "    print(\"Phrase 1 - Initialization\")\n",
    "\n",
    "    # set index of cluster with max profit to 0\n",
    "    i_max_profit_cluster = 0\n",
    "\n",
    "    i = 0\n",
    "    # for each transaction in dataset\n",
    "    while i < len(dataset):\n",
    "\n",
    "        # print the index of transaction in dataset\n",
    "        print(\"t -- \", i)\n",
    "\n",
    "        # if the index of max profit cluster is large or equal to the index of clusters\n",
    "        if i_max_profit_cluster >= len(clusters) - 1:\n",
    "            cluster = []\n",
    "            clusters.append(cluster)\n",
    "\n",
    "        # the i th transaction\n",
    "        transaction = dataset[i]\n",
    "\n",
    "        # find index of cluster that create maximum profit after add transaction\n",
    "        i_max_profit_cluster = Find_Max_Profit_Cluster(transaction, repulsion)\n",
    "\n",
    "        # appenend the transaction in that cluster\n",
    "        clusters[i_max_profit_cluster].append(transaction)\n",
    "\n",
    "        # record the location of cluster for transtranction\n",
    "        clusters_index.append(i_max_profit_cluster)\n",
    "\n",
    "        i += 1\n",
    "\n",
    "    # if the last cluster of clusters is empty, remove it\n",
    "    if len(clusters[len(clusters) - 1]) == 0:\n",
    "        del clusters[len(clusters) - 1]\n",
    "\n",
    "    ##print(clusters)\n",
    "    \n",
    "    print(\"\\n\")\n",
    "    "
   ]
  },
  {
   "cell_type": "code",
   "execution_count": null,
   "metadata": {},
   "outputs": [],
   "source": [
    "# Phrase 2 - Iterate\n",
    "def Iterate(dataset, clusters, clusters_index, repulsion):\n",
    "\n",
    "    print(\"Phrase 2 - Iterate\")\n",
    "\n",
    "    # set moved = True\n",
    "    moved = True\n",
    "\n",
    "    # repeat until moved is False\n",
    "    while moved:\n",
    "\n",
    "        i = 0\n",
    "        moved = False\n",
    "\n",
    "        # for each transaction in dataset\n",
    "        k = 0\n",
    "        while k < len(dataset):\n",
    "\n",
    "            #print the index of transaction in dataset\n",
    "            print(\"t -- \", i)\n",
    "\n",
    "            # the k-th transaction\n",
    "            transaction = dataset[k]\n",
    "\n",
    "            # index of clusters_index\n",
    "            i_current_cluster = clusters_index[i]\n",
    "\n",
    "            clusters[i_current_cluster].remove(transaction)\n",
    "\n",
    "            # find index of cluster that create maximum profit after add transaction\n",
    "            i_max_profit_cluster = Find_Max_Profit_Cluster(transaction, repulsion)\n",
    "\n",
    "            # appenend the transaction in that cluster\n",
    "            clusters[i_max_profit_cluster].append(transaction)\n",
    "\n",
    "            # if index of max profit cluster is not equal to the #index of clusters_index\n",
    "            if i_max_profit_cluster != i_current_cluster:\n",
    "                clusters_index[i] = i_max_profit_cluster\n",
    "                moved = True\n",
    "\n",
    "            k += 1\n",
    "\n",
    "            i += 1\n",
    "\n",
    "    print(\"\\n\")"
   ]
  },
  {
   "cell_type": "markdown",
   "metadata": {},
   "source": [
    "**Experiment: Mushroom**"
   ]
  },
  {
   "cell_type": "markdown",
   "metadata": {},
   "source": [
    "1.Load the data"
   ]
  },
  {
   "cell_type": "code",
   "execution_count": null,
   "metadata": {},
   "outputs": [],
   "source": [
    "#read the data and put data in dataset list\n",
    "import csv\n",
    "\n",
    "dataset = []\n",
    "\n",
    "a=0\n",
    "with open(\"mushrooms.csv\") as csvfile:\n",
    "    reader = csv.reader(csvfile)     \n",
    "    for row in reader: \n",
    "        # each row is a list\n",
    "        dataset.append(row)\n",
    "        a+=1"
   ]
  },
  {
   "cell_type": "code",
   "execution_count": null,
   "metadata": {},
   "outputs": [],
   "source": [
    "#print dataset size\n",
    "print(\"dataset size = \", len(dataset),\"\\n\")"
   ]
  },
  {
   "cell_type": "markdown",
   "metadata": {},
   "source": [
    "2.Dataset preprocessing"
   ]
  },
  {
   "cell_type": "code",
   "execution_count": null,
   "metadata": {},
   "outputs": [],
   "source": [
    "#remove first item of each transactions because it is class\n",
    "#record it in the class list\n",
    "class_list =[]\n",
    "j=0\n",
    "while j<len(dataset):\n",
    "    class_list.append(dataset[j][0])\n",
    "    del dataset[j][0]\n",
    "    j+=1\n",
    "    \n",
    "print(class_list)"
   ]
  },
  {
   "cell_type": "code",
   "execution_count": null,
   "metadata": {},
   "outputs": [],
   "source": [
    "#make attribute values in each tarnsaction distinct\n",
    "transaction_size =len(dataset[0])\n",
    "\n",
    "m=0\n",
    "while m<transaction_size:\n",
    "    n=0\n",
    "    while n<len(dataset):                \n",
    "        dataset[n][m]= dataset[n][m] +str(m)\n",
    "        n+=1\n",
    "    m+=1"
   ]
  },
  {
   "cell_type": "code",
   "execution_count": null,
   "metadata": {},
   "outputs": [],
   "source": [
    "#show all attribute values of each attributes \n",
    "attribute_list=[]\n",
    "i=0\n",
    "while i<transaction_size:\n",
    "    attribute=[]\n",
    "    j=0\n",
    "    while j<len(dataset):\n",
    "        attribute.append(dataset[j][i])\n",
    "        j+=1\n",
    "        \n",
    "    #remove duplicate item in attribute data\n",
    "    attribute_list.append(Remove_Duplicate(attribute))\n",
    "    \n",
    "    i+=1\n",
    "    \n",
    "    \n",
    "items=0\n",
    "k=0\n",
    "while k<len(attribute_list):\n",
    "    print(attribute_list[k])\n",
    "    items=items+len(attribute_list[k])\n",
    "    k+=1\n",
    "\n",
    "    \n",
    "#print number of distinct attribute value\n",
    "print(\"\\n\",\"number of distinct attribute value: \", items)"
   ]
  },
  {
   "cell_type": "code",
   "execution_count": null,
   "metadata": {},
   "outputs": [],
   "source": [
    "#remove missing value ='?10' of the transactions in dataset\n",
    "ignore=0\n",
    "a=0\n",
    "while a<len(dataset) :    \n",
    "    if'?10' in dataset[a]:\n",
    "        dataset[a].remove('?10')\n",
    "        ignore+=1\n",
    "    a+=1\n",
    "\n",
    "#print the number of ingored \n",
    "print(ignore, \"missing attribute values ignored\")"
   ]
  },
  {
   "cell_type": "code",
   "execution_count": null,
   "metadata": {},
   "outputs": [],
   "source": [
    "#print each transaction in dataset\n",
    "l=0\n",
    "while l<len(dataset):\n",
    "    print(\"t = \", l)\n",
    "    print(dataset[l])\n",
    "    l+=1"
   ]
  },
  {
   "cell_type": "markdown",
   "metadata": {},
   "source": [
    "3.Run the CLOPE"
   ]
  },
  {
   "cell_type": "code",
   "execution_count": null,
   "metadata": {},
   "outputs": [],
   "source": [
    "#location of cluster for each transaction\n",
    "clusters_index=[]\n",
    "\n",
    "#empty clusters\n",
    "clusters = [] \n",
    "\n",
    "#type the repulsion value\n",
    "repulsion = float(input (\"Please enter the repulsion: \"))\n",
    "\n",
    "Initialization (dataset, clusters, clusters_index, repulsion)\n",
    "Iterate(dataset, clusters, clusters_index, repulsion)"
   ]
  },
  {
   "cell_type": "markdown",
   "metadata": {},
   "source": [
    "4.Print the number of clusters and cluster index of every transaction"
   ]
  },
  {
   "cell_type": "code",
   "execution_count": null,
   "metadata": {},
   "outputs": [],
   "source": [
    "#print number of clusters\n",
    "print(\"When repulsion = \", repulsion, )\n",
    "print(\"number of clusters = \", len(clusters))"
   ]
  },
  {
   "cell_type": "code",
   "execution_count": null,
   "metadata": {},
   "outputs": [],
   "source": [
    "#print the list of cluster index for each transaction\n",
    "print(\"cluster index for each transaction: \")\n",
    "print(clusters_index)"
   ]
  },
  {
   "cell_type": "markdown",
   "metadata": {},
   "source": [
    "5.Compute the purity"
   ]
  },
  {
   "cell_type": "code",
   "execution_count": null,
   "metadata": {},
   "outputs": [],
   "source": [
    "#define a function compute the purity \n",
    "def Purity(dataset, clusters, class_list):\n",
    "    \n",
    "    num_edibles=0\n",
    "    num_poisonous=0\n",
    "    purity=0\n",
    "\n",
    "    #for each cluster in clusters\n",
    "    w=0\n",
    "    while w < len(clusters):\n",
    "    \n",
    "        #for each tansaction in cluster\n",
    "        y=0\n",
    "        while y < len(clusters[w]):\n",
    "    \n",
    "            #the y-th transaction in cluster clusters[w]\n",
    "            transaction = clusters[w][y]\n",
    "      \n",
    "            #for each transaction in dataset\n",
    "            x=0\n",
    "            while x<len(dataset):  \n",
    "        \n",
    "                #if tansaction in cluster equal to the transaction in dataset\n",
    "                if transaction == dataset[x]:\n",
    "                \n",
    "                    if class_list[x] == 'e':                    \n",
    "                        num_edibles+=1                 \n",
    "                    else:                  \n",
    "                        num_poisonous+=1\n",
    "                 \n",
    "                #index of transaction in dataset\n",
    "                x+=1\n",
    "            \n",
    "            #index of transaction in cluster\n",
    "            y+=1\n",
    "    \n",
    "        #compute the purity by summing up larger one of the num_edibles and the num_poisonous in each cluster\n",
    "        purity = purity + max(num_edibles, num_poisonous)\n",
    "        \n",
    "        #reset num_edibles and the num_poisonous to 0\n",
    "        num_edibles=0\n",
    "        num_poisonous=0\n",
    "        \n",
    "        #index of cluster in clusters\n",
    "        w+=1\n",
    "        \n",
    "    return purity"
   ]
  },
  {
   "cell_type": "code",
   "execution_count": null,
   "metadata": {},
   "outputs": [],
   "source": [
    "#print the purity\n",
    "print(\"purity = \", Purity(dataset, clusters, class_list))"
   ]
  },
  {
   "cell_type": "code",
   "execution_count": null,
   "metadata": {},
   "outputs": [],
   "source": []
  }
 ],
 "metadata": {
  "kernelspec": {
   "display_name": "Python 3",
   "language": "python",
   "name": "python3"
  },
  "language_info": {
   "codemirror_mode": {
    "name": "ipython",
    "version": 3
   },
   "file_extension": ".py",
   "mimetype": "text/x-python",
   "name": "python",
   "nbconvert_exporter": "python",
   "pygments_lexer": "ipython3",
   "version": "3.7.7"
  }
 },
 "nbformat": 4,
 "nbformat_minor": 2
}
